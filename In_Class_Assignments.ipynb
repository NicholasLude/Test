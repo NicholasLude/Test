{
  "nbformat": 4,
  "nbformat_minor": 0,
  "metadata": {
    "colab": {
      "provenance": [],
      "authorship_tag": "ABX9TyO+BA8LKIycTu2Oydc+oPBP",
      "include_colab_link": true
    },
    "kernelspec": {
      "name": "python3",
      "display_name": "Python 3"
    },
    "language_info": {
      "name": "python"
    }
  },
  "cells": [
    {
      "cell_type": "markdown",
      "metadata": {
        "id": "view-in-github",
        "colab_type": "text"
      },
      "source": [
        "<a href=\"https://colab.research.google.com/github/NicholasLude/Test/blob/main/In_Class_Assignments.ipynb\" target=\"_parent\"><img src=\"https://colab.research.google.com/assets/colab-badge.svg\" alt=\"Open In Colab\"/></a>"
      ]
    },
    {
      "cell_type": "code",
      "source": [
        "pi=3.14\n",
        "radius=float(input('Enter Radius: '))\n",
        "height=float(input('Enter Height: '))\n",
        "\n",
        "area=(2*pi*radius**2)+(2*pi*radius*height)\n",
        "\n",
        "print(f'Area of Cylinder: {area} sq. ft')"
      ],
      "metadata": {
        "colab": {
          "base_uri": "https://localhost:8080/"
        },
        "id": "elj_0U6U6JFi",
        "outputId": "9ea169fc-c074-47f1-f463-36c0850c3d01"
      },
      "execution_count": null,
      "outputs": [
        {
          "output_type": "stream",
          "name": "stdout",
          "text": [
            "Enter Radius: 10\n",
            "Enter Height: 10\n",
            "Area of Cylinder: 1256.0 sq. ft\n"
          ]
        }
      ]
    }
  ]
}