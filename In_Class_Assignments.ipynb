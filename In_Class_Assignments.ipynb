{
  "nbformat": 4,
  "nbformat_minor": 0,
  "metadata": {
    "colab": {
      "provenance": [],
      "authorship_tag": "ABX9TyOJrLfezaLezLeACS+pzqtA",
      "include_colab_link": true
    },
    "kernelspec": {
      "name": "python3",
      "display_name": "Python 3"
    },
    "language_info": {
      "name": "python"
    }
  },
  "cells": [
    {
      "cell_type": "markdown",
      "metadata": {
        "id": "view-in-github",
        "colab_type": "text"
      },
      "source": [
        "<a href=\"https://colab.research.google.com/github/NicholasLude/Test/blob/main/In_Class_Assignments.ipynb\" target=\"_parent\"><img src=\"https://colab.research.google.com/assets/colab-badge.svg\" alt=\"Open In Colab\"/></a>"
      ]
    },
    {
      "cell_type": "markdown",
      "source": [
        "**Cylinder Area Calculator**"
      ],
      "metadata": {
        "id": "bXEpd2FQZZ8z"
      }
    },
    {
      "cell_type": "code",
      "source": [
        "pi=3.14\n",
        "radius=float(input('Enter Radius: '))\n",
        "height=float(input('Enter Height: '))\n",
        "\n",
        "area=(2*pi*radius**2)+(2*pi*radius*height)\n",
        "\n",
        "print(f'Area of Cylinder: {area} sq. ft')"
      ],
      "metadata": {
        "colab": {
          "base_uri": "https://localhost:8080/"
        },
        "id": "elj_0U6U6JFi",
        "outputId": "9ea169fc-c074-47f1-f463-36c0850c3d01"
      },
      "execution_count": null,
      "outputs": [
        {
          "output_type": "stream",
          "name": "stdout",
          "text": [
            "Enter Radius: 10\n",
            "Enter Height: 10\n",
            "Area of Cylinder: 1256.0 sq. ft\n"
          ]
        }
      ]
    },
    {
      "cell_type": "markdown",
      "source": [
        "**Numerical Calculator**\n"
      ],
      "metadata": {
        "id": "H2_6sWBwiRIo"
      }
    },
    {
      "cell_type": "code",
      "source": [
        "def calculate(num1, num2, op):\n",
        "    if op == '+':\n",
        "        result = num1 + num2\n",
        "        operation = \"plus\"\n",
        "    elif op == '-':\n",
        "        result = num1 - num2\n",
        "        operation = \"minus\"\n",
        "    elif op == '*':\n",
        "        result = num1 * num2\n",
        "        operation = \"times\"\n",
        "    elif op == '/':\n",
        "        result = num1 / num2\n",
        "        operation = \"divided by\"\n",
        "    elif op == '//':\n",
        "        result = num1 // num2\n",
        "        operation = \"floor-divided by\"\n",
        "    elif op == '**':\n",
        "        result = num1 ** num2\n",
        "        operation = \"to the power of\"\n",
        "    elif op == '%':\n",
        "        result = num1 % num2\n",
        "        operation = \"modulo\"\n",
        "    else:\n",
        "        print(\"Unsupported operation symbol.\")\n",
        "        return\n",
        "    print(\"Result:\", num1, operation, num2, \"=\", result)"
      ],
      "metadata": {
        "colab": {
          "base_uri": "https://localhost:8080/"
        },
        "id": "ipYOlLQ3Vd0m",
        "outputId": "0b1d3525-7231-4ae1-fcb8-862eabe092ce"
      },
      "execution_count": null,
      "outputs": [
        {
          "output_type": "stream",
          "name": "stdout",
          "text": [
            "Enter First Number:2\n",
            "Enter Second Number:3\n",
            "Enter operator:-\n",
            "Result: -1.0\n"
          ]
        }
      ]
    },
    {
      "cell_type": "markdown",
      "source": [
        "**Parking Garage**"
      ],
      "metadata": {
        "id": "rRZ_BIMfiZWT"
      }
    },
    {
      "cell_type": "code",
      "source": [
        "base_fee = 5\n",
        "rate_per_hour = 2.50\n",
        "minimum_charge = 10\n",
        "maximum_charge = 20\n",
        "\n",
        "for hrs in range(1, 9):  # range end is exclusive\n",
        "    total_cost = base_fee + rate_per_hour * hrs\n",
        "\n",
        "    if total_cost < minimum_charge:\n",
        "        total_cost = minimum_charge\n",
        "    elif total_cost > maximum_charge:\n",
        "        total_cost = maximum_charge\n",
        "\n",
        "    print(f\"For {hrs} hour(s), the cost is ${round(total_cost, 2)}\")"
      ],
      "metadata": {
        "colab": {
          "base_uri": "https://localhost:8080/"
        },
        "id": "O_flml3QaPMl",
        "outputId": "bb44ea89-78c1-4cc1-bc2b-d7511a3ad6ae"
      },
      "execution_count": null,
      "outputs": [
        {
          "output_type": "stream",
          "name": "stdout",
          "text": [
            "1 10.0\n",
            "2 10.0\n",
            "3 12.5\n",
            "4 15.0\n",
            "5 17.5\n",
            "6 20.0\n",
            "7 20.0\n",
            "8 20.0\n"
          ]
        }
      ]
    },
    {
      "cell_type": "markdown",
      "source": [
        "**Movie Theater**"
      ],
      "metadata": {
        "id": "kd8_zRLOid7F"
      }
    },
    {
      "cell_type": "code",
      "source": [
        "ticket = 10\n",
        "adDollars = 0\n",
        "fixedCost= 200\n",
        "attendees = 20\n",
        "\n",
        "print(\"Ads Profit\")\n",
        "for adDollars in range(0,201,25):\n",
        "  additional_attendees = 2 * round(adDollars**.5)\n",
        "  Profit = ticket * (attendees + additional_attendees) - adDollars - fixedCost\n",
        "  print(f\"${adDollars} = ${Profit}\")"
      ],
      "metadata": {
        "id": "a_UzcuGBhZB7"
      },
      "execution_count": null,
      "outputs": []
    },
    {
      "cell_type": "code",
      "source": [
        "print ('Ad$\\t', 'Profit')\n",
        "for admoney in range(0,201,25):\n",
        "  revenue = round(20 + 2 * (admoney**.5))*10\n",
        "  costs = 200 + admoney\n",
        "  profit = (revenue - costs)\n",
        "  print(admoney, '\\t', profit)"
      ],
      "metadata": {
        "colab": {
          "base_uri": "https://localhost:8080/"
        },
        "id": "Z1p0-TTWaVDY",
        "outputId": "152fce35-3462-4f0b-9533-6110d0b65d0e"
      },
      "execution_count": null,
      "outputs": [
        {
          "output_type": "stream",
          "name": "stdout",
          "text": [
            "Ad$\t Profit\n",
            "0 \t 0\n",
            "25 \t 75\n",
            "50 \t 90\n",
            "75 \t 95\n",
            "100 \t 100\n",
            "125 \t 95\n",
            "150 \t 90\n",
            "175 \t 85\n",
            "200 \t 80\n"
          ]
        }
      ]
    },
    {
      "cell_type": "markdown",
      "source": [
        "**Rock-paper-scissors**"
      ],
      "metadata": {
        "id": "YfcKEgmRinZo"
      }
    },
    {
      "cell_type": "code",
      "source": [
        "import random\n",
        "\n",
        "play = input('Do you want to play a game? (yes/no): ').capitalize()\n",
        "\n",
        "while play == 'Yes':\n",
        "  p1 = input('Player 1 - Choose between rock/paper/scissors: ').capitalize()\n",
        "  p2 = random.choice(['Rock', 'Paper', 'Scissors']).capitalize()\n",
        "\n",
        "  print (f'Player chose {p1}; Computer chose {p2}')\n",
        "\n",
        "  if p1 == p2:\n",
        "    print('Draw')\n",
        "  elif ((p1 == 'Rock' and p2 == 'Scissors') or\n",
        "        (p1 == 'Scissors' and p2 == 'Paper') or\n",
        "        (p1 == 'Paper' and p2 == 'Rock')\n",
        "        ):\n",
        "    print('Player 1 Wins!')\n",
        "  else:\n",
        "    print('Computer Wins!')\n",
        "  play = input('Do you want to play another game? (Yes/No): ').capitalize()\n",
        "print ('Good day...')"
      ],
      "metadata": {
        "id": "7_9pLA5bbMJn"
      },
      "execution_count": null,
      "outputs": []
    },
    {
      "cell_type": "markdown",
      "source": [
        "**Append items to list iteratively**"
      ],
      "metadata": {
        "id": "t5vCabkQjFVO"
      }
    },
    {
      "cell_type": "code",
      "source": [
        "numbers = []\n",
        "value = int(input(\"Enter a number (0 to quit): \"))\n",
        "\n",
        "while value != 0:\n",
        "    numbers.append(value)\n",
        "    value = int(input(\"Next number (0 to end): \"))\n",
        "\n",
        "sorted_desc = sorted(numbers, reverse=True)\n",
        "\n",
        "print(\"Sorted list (descending):\", sorted_desc)"
      ],
      "metadata": {
        "id": "dwJo5DVHbdEO"
      },
      "execution_count": null,
      "outputs": []
    },
    {
      "cell_type": "markdown",
      "source": [
        "**Number Month Pairs**"
      ],
      "metadata": {
        "id": "9QNwoR93ixRX"
      }
    },
    {
      "cell_type": "code",
      "source": [
        "months = {}\n",
        "names = ['jan', 'feb', 'mar', 'apr', 'may', 'jun', 'jul', 'aug', 'sep', 'oct', 'nov', 'dec']\n",
        "numbers = [1,2,3,4,5,6,7,8,9,10,11,12]\n",
        "\n",
        "for num in numbers:\n",
        "    months[num] = names[num - 1]\n",
        "months"
      ],
      "metadata": {
        "colab": {
          "base_uri": "https://localhost:8080/"
        },
        "id": "3ORVCRf5bsCb",
        "outputId": "b60cb1b9-483d-4bb4-b975-e0aa6ea072d1"
      },
      "execution_count": null,
      "outputs": [
        {
          "output_type": "execute_result",
          "data": {
            "text/plain": [
              "{1: 'jan',\n",
              " 2: 'feb',\n",
              " 3: 'mar',\n",
              " 4: 'apr',\n",
              " 5: 'may',\n",
              " 6: 'jun',\n",
              " 7: 'jul',\n",
              " 8: 'aug',\n",
              " 9: 'sep',\n",
              " 10: 'oct',\n",
              " 11: 'nov',\n",
              " 12: 'dec'}"
            ]
          },
          "metadata": {},
          "execution_count": 11
        }
      ]
    },
    {
      "cell_type": "markdown",
      "source": [
        "**5 distinct key:value pairsext**"
      ],
      "metadata": {
        "id": "3VrP4KWWk4vf"
      }
    },
    {
      "cell_type": "code",
      "source": [
        "counts = {}\n",
        "\n",
        "while len(counts) < 5:\n",
        "  uInput = input(\"enter string: \")\n",
        "  if uInput in counts:\n",
        "    counts[uInput] += 1\n",
        "  else:\n",
        "    counts[uInput] = 1\n",
        "\n",
        "print(counts)"
      ],
      "metadata": {
        "id": "S7jWPqy0k8iK"
      },
      "execution_count": null,
      "outputs": []
    },
    {
      "cell_type": "markdown",
      "source": [
        "**Parking garage: calcFee function**"
      ],
      "metadata": {
        "id": "uKy08dILjT_Y"
      }
    },
    {
      "cell_type": "code",
      "source": [
        "def calcFee(hours):\n",
        "  fee = 5 + 2.5 * hours\n",
        "  if fee <10.0:\n",
        "    fee = 10.0\n",
        "  elif fee > 20.0:\n",
        "    fee = 20.0\n",
        "    print(hours, '\\t', fee)\n",
        "\n",
        "  def main():\n",
        "    numhours = int(input('Enter the Number of Hours: '))\n",
        "    calcFee(numhours)\n",
        "\n",
        "main()"
      ],
      "metadata": {
        "id": "dI2mZRYFc_It"
      },
      "execution_count": null,
      "outputs": []
    },
    {
      "cell_type": "code",
      "source": [
        "fixedfee = 5\n",
        "hourlyfee = 2.50\n",
        "minfee = 10\n",
        "maxfee = 20\n",
        "\n",
        "for hours in range(1,9):\n",
        "  price = fixedFee + hourlyFee * hours\n",
        "  if price < minFee:\n",
        "    price = minFee\n",
        "  elif price > maxFee:\n",
        "    price = maxFee\n",
        "  print(f\"price for {hours} hours is ${price}\")\n"
      ],
      "metadata": {
        "id": "BsF6aDeZeT5C"
      },
      "execution_count": null,
      "outputs": []
    },
    {
      "cell_type": "markdown",
      "source": [
        "**Recursive function: string reversal**"
      ],
      "metadata": {
        "id": "Gb11K5FwjoD8"
      }
    },
    {
      "cell_type": "code",
      "source": [
        "def reverse_string(text):\n",
        "    if len(text) < 2:\n",
        "        return text\n",
        "    else:\n",
        "        return reverse_string(text[1:]) + text[0]\n",
        "\n",
        "result = reverse_string(\"hello\")\n",
        "print(result)"
      ],
      "metadata": {
        "colab": {
          "base_uri": "https://localhost:8080/"
        },
        "id": "O4N7f9QAjr7F",
        "outputId": "45d7ba88-8d8f-4f2f-ab71-a9f4cc2a7a81"
      },
      "execution_count": 16,
      "outputs": [
        {
          "output_type": "stream",
          "name": "stdout",
          "text": [
            "olleh\n"
          ]
        }
      ]
    },
    {
      "cell_type": "markdown",
      "source": [
        "**Parking garage/1st question of Assignment II using exception handling**"
      ],
      "metadata": {
        "id": "77rKBcOPjvrz"
      }
    },
    {
      "cell_type": "code",
      "source": [
        "def calcFee(hours):\n",
        "  fee = 5 + 2.5 * hours\n",
        "  if fee < 10:\n",
        "    fee = 10\n",
        "  elif fee > 20:\n",
        "    fee = 20\n",
        "  return fee\n",
        "\n",
        "def main():\n",
        "  while True:\n",
        "    try:\n",
        "      hours = int(input(\"enter number of hours: \"))\n",
        "      break\n",
        "    except ValueError:\n",
        "      print(\"Invalid input. Please enter a number.\")\n",
        "\n",
        "  print(f\"price for {hours} hours is ${calcFee(hours)}\")\n",
        "\n",
        "if __name__ == \"__main__\":\n",
        "  main()"
      ],
      "metadata": {
        "id": "Fa58Kx4njzwS"
      },
      "execution_count": null,
      "outputs": []
    },
    {
      "cell_type": "markdown",
      "source": [
        "**Greeting Class**"
      ],
      "metadata": {
        "id": "XBUc22hljZn3"
      }
    },
    {
      "cell_type": "code",
      "source": [
        "class Greeting:\n",
        "  def __init__(self, first, last):\n",
        "    self.first = first\n",
        "    self.last = last\n",
        "\n",
        "  def display(self, formal = False):\n",
        "    if formal:\n",
        "      print(f\"Hello {self.first} {self.last}.\")\n",
        "    else:\n",
        "      print(f\"Hi {self.first}!\")\n",
        "\n",
        "  def __str__(self):\n",
        "    return f\"{self.first}, {self.last}\"\n",
        "    #return str(self.first) + \", \" + str(self.last)\n",
        "    #return \"{}, {}\".format(self.first, self.last)\n",
        "\n",
        "  def __repr__(self):\n",
        "    print(f\"{self.first}, {self.last}\")\n",
        "\n",
        "\n",
        "greeting = Greeting(\"Nicco\", \"Lude\")\n",
        "greeting.display(formal = True)\n",
        "greeting.display()\n",
        "greeting = Greeting(\"Ronald\", \"McDonald\")\n",
        "print(greeting)"
      ],
      "metadata": {
        "id": "zePRMTxWfWED"
      },
      "execution_count": null,
      "outputs": []
    },
    {
      "cell_type": "markdown",
      "source": [
        "**Student Class**"
      ],
      "metadata": {
        "id": "owk963Vaj4NR"
      }
    },
    {
      "cell_type": "code",
      "source": [
        "class Learner:\n",
        "\n",
        "    def __init__(self, student_name, student_id):\n",
        "        self.student_name = student_name\n",
        "        self.student_id = student_id\n",
        "        self.courses = []\n",
        "\n",
        "    def enroll(self, course_name):\n",
        "        if course_name in self.courses:\n",
        "            print(\"Already enrolled in:\", course_name)\n",
        "        else:\n",
        "            self.courses.append(course_name)\n",
        "\n",
        "    def list_courses(self):\n",
        "        return self.courses\n",
        "\n",
        "l1 = Learner(\"James Bond\", 7)\n",
        "l2 = Learner(\"Clark Kent\", 333)"
      ],
      "metadata": {
        "id": "8jHPxPV4j78i"
      },
      "execution_count": null,
      "outputs": []
    },
    {
      "cell_type": "markdown",
      "source": [
        "**Classes Point and Rectangle**"
      ],
      "metadata": {
        "id": "YTPKYZ7kkfYU"
      }
    },
    {
      "cell_type": "code",
      "source": [
        "import math\n",
        "\n",
        "class Point:\n",
        "  def __init__(self, x, y):\n",
        "    self.x = x\n",
        "    self.y = y\n",
        "\n",
        "  def distance(self, other):\n",
        "    xdiff = self.x - other.x\n",
        "    ydiff = self.y - other.y\n",
        "    dist = (xdiff**2 + ydiff**2)**0.5\n",
        "    return dist"
      ],
      "metadata": {
        "id": "wSh4SgrPf6a6"
      },
      "execution_count": null,
      "outputs": []
    },
    {
      "cell_type": "code",
      "source": [
        "class Rectangle:\n",
        "  def __init__(self):\n",
        "    self.corner1 = Point(0,0)\n",
        "    self.corner2 = Point(0,2)\n",
        "    self.corner3 = Point(2,0)\n",
        "    self.corner4 = Point(2,2)\n",
        "\n",
        "  def calculateWidth(self):\n",
        "    return self.corner1.distance(self.corner2)\n",
        "\n",
        "  def calculateHeight(self):\n",
        "    return self.corner1.distance(self.corner3)\n",
        "\n",
        "  def area(self):\n",
        "    return f'Area = {self.calculateWidth() * self.calculateHeight()} sq. ft.'"
      ],
      "metadata": {
        "id": "EY3VZJhDgBzD"
      },
      "execution_count": null,
      "outputs": []
    },
    {
      "cell_type": "code",
      "source": [],
      "metadata": {
        "id": "kMXCKF-hgV5y"
      },
      "execution_count": null,
      "outputs": []
    }
  ]
}